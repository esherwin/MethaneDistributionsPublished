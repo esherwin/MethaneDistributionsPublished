version https://git-lfs.github.com/spec/v1
oid sha256:cc8a78879c5dc63e8600aa73fc3f37fd04b022fc43d7286541a9ce05f25f70f3
size 815804
