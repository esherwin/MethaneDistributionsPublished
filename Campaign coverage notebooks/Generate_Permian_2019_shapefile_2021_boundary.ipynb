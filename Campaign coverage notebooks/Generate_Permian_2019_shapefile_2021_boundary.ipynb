version https://git-lfs.github.com/spec/v1
oid sha256:be5426490a602140234d610f9d57942004c9777ba8ec3a1cb6f7f9a15757776a
size 37129
