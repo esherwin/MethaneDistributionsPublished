version https://git-lfs.github.com/spec/v1
oid sha256:7539d329f1ad7ad6d28adb00fcee341fb6039be0b528af437beed2a54721389c
size 43256
