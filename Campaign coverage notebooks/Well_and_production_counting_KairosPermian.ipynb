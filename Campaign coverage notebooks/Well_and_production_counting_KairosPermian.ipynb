version https://git-lfs.github.com/spec/v1
oid sha256:50272a0e0005e9d8843495d395b98b0a80bcf84fae6471015b275e64cd20edd4
size 1187561
