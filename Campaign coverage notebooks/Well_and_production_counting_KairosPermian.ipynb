version https://git-lfs.github.com/spec/v1
oid sha256:467d5621eb055ec28ccc0a7f5eb9d8d265ea2c0c5a2325de207cbd3a7d2d970e
size 45212
