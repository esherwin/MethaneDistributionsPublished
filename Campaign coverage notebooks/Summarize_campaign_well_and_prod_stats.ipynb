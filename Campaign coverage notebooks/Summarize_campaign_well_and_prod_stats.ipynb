version https://git-lfs.github.com/spec/v1
oid sha256:7f2f6edf904d83d70aa71293d336bb7d8980cad00839ba51512348b217764a2c
size 1169120
