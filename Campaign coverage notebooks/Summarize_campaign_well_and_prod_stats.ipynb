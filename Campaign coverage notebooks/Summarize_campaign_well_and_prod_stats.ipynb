version https://git-lfs.github.com/spec/v1
oid sha256:3c42088268e450d3669a0e8b3453a491f7ce74ff295362fe3eaecce8d41fa9ae
size 1900996
