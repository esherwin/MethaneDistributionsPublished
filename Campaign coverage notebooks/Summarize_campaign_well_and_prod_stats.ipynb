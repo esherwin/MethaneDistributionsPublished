version https://git-lfs.github.com/spec/v1
oid sha256:773edd087822b9e20ab24600035083cff90d3c1a21663da6c33b5a179a63d18d
size 2089300
