version https://git-lfs.github.com/spec/v1
oid sha256:f74ea3925f915787a10b4a44592c1bb09cc34baf6d6c483bd4afebd5cdbb6414
size 43901
