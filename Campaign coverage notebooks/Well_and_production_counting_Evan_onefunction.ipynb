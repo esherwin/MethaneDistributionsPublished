version https://git-lfs.github.com/spec/v1
oid sha256:a5905141e45423218935781c922d0233bc94ca36deaf47b4952ca554ca438efd
size 443797
