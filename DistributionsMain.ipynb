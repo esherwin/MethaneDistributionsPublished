version https://git-lfs.github.com/spec/v1
oid sha256:dcd93eeb5cf9b413511743f100234030a096e3a8489fdcc78f974dba350ff447
size 523761
