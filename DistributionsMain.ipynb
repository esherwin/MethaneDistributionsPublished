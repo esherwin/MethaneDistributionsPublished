version https://git-lfs.github.com/spec/v1
oid sha256:8363c1391987da48382b6052ca83035e8ae40c2d69782b71cc38c75a45b972e0
size 441696
