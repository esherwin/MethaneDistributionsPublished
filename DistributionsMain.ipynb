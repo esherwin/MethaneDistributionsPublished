version https://git-lfs.github.com/spec/v1
oid sha256:75713157a3d054f3293f944b5df6ebf6bef163271556aa6e902a6c4dfefdcc88
size 1824490
