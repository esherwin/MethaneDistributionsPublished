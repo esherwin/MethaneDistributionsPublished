version https://git-lfs.github.com/spec/v1
oid sha256:36323fbce64c574b85147100d5eba4b89ce4d56d11651c6faf8f98867be04416
size 355786
